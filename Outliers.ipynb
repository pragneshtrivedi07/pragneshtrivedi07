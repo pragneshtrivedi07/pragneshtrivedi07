{
  "nbformat": 4,
  "nbformat_minor": 0,
  "metadata": {
    "colab": {
      "name": "Outliers.ipynb",
      "provenance": [],
      "collapsed_sections": [],
      "authorship_tag": "ABX9TyN/M5isxHiYSvBvP+hUE52e"
    },
    "kernelspec": {
      "name": "python3",
      "display_name": "Python 3"
    },
    "language_info": {
      "name": "python"
    }
  },
  "cells": [
    {
      "cell_type": "code",
      "execution_count": null,
      "metadata": {
        "id": "ZUfBDpgeUVhx"
      },
      "outputs": [],
      "source": [
        ""
      ]
    },
    {
      "cell_type": "markdown",
      "source": [
        "### Outliers"
      ],
      "metadata": {
        "id": "twx0EJKoUdxP"
      }
    },
    {
      "cell_type": "markdown",
      "source": [
        ""
      ],
      "metadata": {
        "id": "M95FPtC_UclR"
      }
    },
    {
      "cell_type": "code",
      "source": [
        "import numpy as np\n",
        "import matplotlib.pyplot as plt \n",
        "import seaborn as sns\n",
        "%matplotlib inline"
      ],
      "metadata": {
        "id": "M4Q9Us7cUhCr"
      },
      "execution_count": 3,
      "outputs": []
    },
    {
      "cell_type": "code",
      "source": [
        "dataset = [11,10,12,14,12,15,14,17,19,107,10,13,12,14,12,108,12,11,14,13,15,12,10,14,13,15,10]"
      ],
      "metadata": {
        "id": "r__eTCcUUrMa"
      },
      "execution_count": 20,
      "outputs": []
    },
    {
      "cell_type": "code",
      "source": [
        "sns.boxplot(dataset)"
      ],
      "metadata": {
        "colab": {
          "base_uri": "https://localhost:8080/",
          "height": 337
        },
        "id": "AV9s221yVNY-",
        "outputId": "9aa1bab2-e802-4194-ee3d-c2e350c2fb0e"
      },
      "execution_count": 23,
      "outputs": [
        {
          "output_type": "stream",
          "name": "stderr",
          "text": [
            "/usr/local/lib/python3.7/dist-packages/seaborn/_decorators.py:43: FutureWarning: Pass the following variable as a keyword arg: x. From version 0.12, the only valid positional argument will be `data`, and passing other arguments without an explicit keyword will result in an error or misinterpretation.\n",
            "  FutureWarning\n"
          ]
        },
        {
          "output_type": "execute_result",
          "data": {
            "text/plain": [
              "<matplotlib.axes._subplots.AxesSubplot at 0x7f95170f3750>"
            ]
          },
          "metadata": {},
          "execution_count": 23
        },
        {
          "output_type": "display_data",
          "data": {
            "text/plain": [
              "<Figure size 432x288 with 1 Axes>"
            ],
            "image/png": "[encoded data removed]"
          },
          "metadata": {
            "needs_background": "light"
          }
        }
      ]
    },
    {
      "cell_type": "code",
      "source": [
        "outliers =[]\n",
        "\n",
        "def d_outliers(data):\n",
        "  threshold=3 #3 STD DEVIATION \n",
        "  mean = np.mean(data)\n",
        "  std = np.std(data)\n",
        "\n",
        "  for i in data:\n",
        "    z_score=(i - mean)/std\n",
        "    if np.abs(z_score)>threshold:\n",
        "      outliers.append(i)\n",
        "\n",
        "  return outliers"
      ],
      "metadata": {
        "id": "YD4DHD2rVZoW"
      },
      "execution_count": 21,
      "outputs": []
    },
    {
      "cell_type": "code",
      "source": [
        "d_outliers(dataset)"
      ],
      "metadata": {
        "colab": {
          "base_uri": "https://localhost:8080/"
        },
        "id": "hPUUzZejXNqF",
        "outputId": "b8e806d6-a3b1-4406-eb1b-b2180397f6fe"
      },
      "execution_count": 22,
      "outputs": [
        {
          "output_type": "execute_result",
          "data": {
            "text/plain": [
              "[107, 108]"
            ]
          },
          "metadata": {},
          "execution_count": 22
        }
      ]
    },
    {
      "cell_type": "code",
      "source": [
        "##IQR\n",
        "##1. sORT THE DATA\n",
        "##2.CALUCULATE Q1 AND Q3\n",
        "##3. IQR(Q3-Q1)\n",
        "##4. FIND THE LOWER FENCE(Q1-1.5(IQR))\n",
        "##5.FIND THE UPPER FENCE(Q3+1.5(IQR))\n"
      ],
      "metadata": {
        "id": "h48A4Oe1XdqT"
      },
      "execution_count": 26,
      "outputs": []
    },
    {
      "cell_type": "code",
      "source": [
        "dataset = sorted(dataset)\n",
        "dataset"
      ],
      "metadata": {
        "colab": {
          "base_uri": "https://localhost:8080/"
        },
        "id": "Md7_F9vOX_BR",
        "outputId": "e093ee9e-adfe-4288-edd7-e723e7e154ae"
      },
      "execution_count": 29,
      "outputs": [
        {
          "output_type": "execute_result",
          "data": {
            "text/plain": [
              "[10,\n",
              " 10,\n",
              " 10,\n",
              " 10,\n",
              " 11,\n",
              " 11,\n",
              " 12,\n",
              " 12,\n",
              " 12,\n",
              " 12,\n",
              " 12,\n",
              " 12,\n",
              " 13,\n",
              " 13,\n",
              " 13,\n",
              " 14,\n",
              " 14,\n",
              " 14,\n",
              " 14,\n",
              " 14,\n",
              " 15,\n",
              " 15,\n",
              " 15,\n",
              " 17,\n",
              " 19,\n",
              " 107,\n",
              " 108]"
            ]
          },
          "metadata": {},
          "execution_count": 29
        }
      ]
    },
    {
      "cell_type": "code",
      "source": [
        "q1,q3=np.percentile(dataset,[25,75])"
      ],
      "metadata": {
        "id": "ypIeWNVVYruo"
      },
      "execution_count": 31,
      "outputs": []
    },
    {
      "cell_type": "code",
      "source": [
        "print(q1)\n",
        "print(q3)"
      ],
      "metadata": {
        "colab": {
          "base_uri": "https://localhost:8080/"
        },
        "id": "-WMoQr6LZCDl",
        "outputId": "72f6a3b3-4f9d-44fc-c8cc-88150b238007"
      },
      "execution_count": 32,
      "outputs": [
        {
          "output_type": "stream",
          "name": "stdout",
          "text": [
            "12.0\n",
            "14.5\n"
          ]
        }
      ]
    },
    {
      "cell_type": "code",
      "source": [
        "## find lower fence and higher fence"
      ],
      "metadata": {
        "id": "EMSOz1ExZJw5"
      },
      "execution_count": 33,
      "outputs": []
    },
    {
      "cell_type": "code",
      "source": [
        "iqr = q3 -q1\n",
        "print(iqr)"
      ],
      "metadata": {
        "colab": {
          "base_uri": "https://localhost:8080/"
        },
        "id": "fvs3GrTXZV_Q",
        "outputId": "47ce9937-300d-4158-9d77-0fbcecd7d76e"
      },
      "execution_count": 34,
      "outputs": [
        {
          "output_type": "stream",
          "name": "stdout",
          "text": [
            "2.5\n"
          ]
        }
      ]
    },
    {
      "cell_type": "code",
      "source": [
        "lower_fence = q1 - (1.5*iqr)\n",
        "higher_fence = q3+ (1.5*iqr)\n",
        "print(lower_fence,higher_fence)"
      ],
      "metadata": {
        "colab": {
          "base_uri": "https://localhost:8080/"
        },
        "id": "Ozga6WY7Zd3j",
        "outputId": "baf4b946-d8a8-4616-8397-a876afbfa028"
      },
      "execution_count": 37,
      "outputs": [
        {
          "output_type": "stream",
          "name": "stdout",
          "text": [
            "8.25 18.25\n"
          ]
        }
      ]
    },
    {
      "cell_type": "code",
      "source": [
        "for i in dataset:\n",
        "  if i<8.25 or i>18.25:\n",
        "    dataset.remove(i)\n",
        "\n",
        "dataset\n"
      ],
      "metadata": {
        "colab": {
          "base_uri": "https://localhost:8080/"
        },
        "id": "avt_rhhVZxtb",
        "outputId": "54e515b1-fa3b-44ea-f11e-688ebf61de49"
      },
      "execution_count": 50,
      "outputs": [
        {
          "output_type": "execute_result",
          "data": {
            "text/plain": [
              "[10,\n",
              " 10,\n",
              " 10,\n",
              " 10,\n",
              " 11,\n",
              " 11,\n",
              " 12,\n",
              " 12,\n",
              " 12,\n",
              " 12,\n",
              " 12,\n",
              " 12,\n",
              " 13,\n",
              " 13,\n",
              " 13,\n",
              " 14,\n",
              " 14,\n",
              " 14,\n",
              " 14,\n",
              " 14,\n",
              " 15,\n",
              " 15,\n",
              " 15,\n",
              " 17]"
            ]
          },
          "metadata": {},
          "execution_count": 50
        }
      ]
    },
    {
      "cell_type": "code",
      "source": [
        "sns.boxplot(dataset)"
      ],
      "metadata": {
        "colab": {
          "base_uri": "https://localhost:8080/",
          "height": 337
        },
        "id": "TwqphDsrbOVR",
        "outputId": "3442c072-ef30-4e46-a045-aa1a7dffcbfc"
      },
      "execution_count": 51,
      "outputs": [
        {
          "output_type": "stream",
          "name": "stderr",
          "text": [
            "/usr/local/lib/python3.7/dist-packages/seaborn/_decorators.py:43: FutureWarning: Pass the following variable as a keyword arg: x. From version 0.12, the only valid positional argument will be `data`, and passing other arguments without an explicit keyword will result in an error or misinterpretation.\n",
            "  FutureWarning\n"
          ]
        },
        {
          "output_type": "execute_result",
          "data": {
            "text/plain": [
              "<matplotlib.axes._subplots.AxesSubplot at 0x7f9516fe4c10>"
            ]
          },
          "metadata": {},
          "execution_count": 51
        },
        {
          "output_type": "display_data",
          "data": {
            "text/plain": [
              "<Figure size 432x288 with 1 Axes>"
            ],
            "image/png": "[encoded data removed]"
          },
          "metadata": {
            "needs_background": "light"
          }
        }
      ]
    },
    {
      "cell_type": "code",
      "source": [
        ""
      ],
      "metadata": {
        "id": "5gtJbbLRcPqu"
      },
      "execution_count": null,
      "outputs": []
    }
  ]
}